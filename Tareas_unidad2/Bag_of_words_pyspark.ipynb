{
  "nbformat": 4,
  "nbformat_minor": 0,
  "metadata": {
    "colab": {
      "name": "Bag_of_words_pyspark.ipynb",
      "provenance": []
    },
    "kernelspec": {
      "name": "python3",
      "display_name": "Python 3"
    },
    "language_info": {
      "name": "python"
    }
  },
  "cells": [
    {
      "cell_type": "markdown",
      "source": [
        "# **BAG OF WORDS EN PYSPARK**\n",
        "\n"
      ],
      "metadata": {
        "id": "PM-a-xOjSS1j"
      }
    },
    {
      "cell_type": "markdown",
      "source": [
        "## 1. Instalar pyspark"
      ],
      "metadata": {
        "id": "2WOjS3uUSSuP"
      }
    },
    {
      "cell_type": "code",
      "execution_count": 1,
      "metadata": {
        "id": "wyaRFMfclbZ3",
        "colab": {
          "base_uri": "https://localhost:8080/"
        },
        "outputId": "9028997d-95e4-40d4-f861-ec4efc0996f5"
      },
      "outputs": [
        {
          "output_type": "stream",
          "name": "stdout",
          "text": [
            "Collecting pyspark\n",
            "  Downloading pyspark-3.2.0.tar.gz (281.3 MB)\n",
            "\u001b[K     |████████████████████████████████| 281.3 MB 33 kB/s \n",
            "\u001b[?25hCollecting py4j==0.10.9.2\n",
            "  Downloading py4j-0.10.9.2-py2.py3-none-any.whl (198 kB)\n",
            "\u001b[K     |████████████████████████████████| 198 kB 55.9 MB/s \n",
            "\u001b[?25hBuilding wheels for collected packages: pyspark\n",
            "  Building wheel for pyspark (setup.py) ... \u001b[?25l\u001b[?25hdone\n",
            "  Created wheel for pyspark: filename=pyspark-3.2.0-py2.py3-none-any.whl size=281805912 sha256=3d8b2db22f425d03b9be63cbc84c8e216f46d616abef641f9fcfec7c090a36e3\n",
            "  Stored in directory: /root/.cache/pip/wheels/0b/de/d2/9be5d59d7331c6c2a7c1b6d1a4f463ce107332b1ecd4e80718\n",
            "Successfully built pyspark\n",
            "Installing collected packages: py4j, pyspark\n",
            "Successfully installed py4j-0.10.9.2 pyspark-3.2.0\n"
          ]
        }
      ],
      "source": [
        "! pip install pyspark"
      ]
    },
    {
      "cell_type": "markdown",
      "source": [
        "## 2. Guardar la libería en una variable con SparkContext"
      ],
      "metadata": {
        "id": "Pw_UwFgcSWJM"
      }
    },
    {
      "cell_type": "code",
      "source": [
        "from pyspark.sql import SparkSession\n",
        "from pyspark import SparkContext\n",
        "sc = SparkContext()"
      ],
      "metadata": {
        "id": "bzOb7wagNf5s"
      },
      "execution_count": null,
      "outputs": []
    },
    {
      "cell_type": "markdown",
      "source": [
        "#3. Importar librerías"
      ],
      "metadata": {
        "id": "XjzYX5vGKgU-"
      }
    },
    {
      "cell_type": "code",
      "source": [
        "from pyspark.context import SparkContext\n",
        "from pyspark.sql.session import SparkSession\n",
        "spark = SparkSession(sc)\n"
      ],
      "metadata": {
        "id": "r91JDpwoGjHr"
      },
      "execution_count": 36,
      "outputs": []
    },
    {
      "cell_type": "markdown",
      "source": [
        "#4. Algoritmo bow"
      ],
      "metadata": {
        "id": "3bd2EccaKmlu"
      }
    },
    {
      "cell_type": "code",
      "source": [
        "data = [\n",
        "    ['a', 'Jan', 'John', 'This is a document'],\n",
        "    ['b', 'Feb', 'Mary', 'A book by Mary'],\n",
        "    ['c', 'Mar', 'Luke', 'Newspaper article'],\n",
        "    ['d', 'Apr', 'Mark', None]\n",
        "]\n",
        "columns = ['Title', 'Month', 'Author', 'Document']\n",
        "df = spark.createDataFrame(data, columns)\n",
        "df.show()"
      ],
      "metadata": {
        "colab": {
          "base_uri": "https://localhost:8080/"
        },
        "id": "IQjYVIeVKpum",
        "outputId": "9eb610f6-28c4-4351-ad10-c8d5d77e4f43"
      },
      "execution_count": 37,
      "outputs": [
        {
          "output_type": "stream",
          "name": "stdout",
          "text": [
            "+-----+-----+------+------------------+\n",
            "|Title|Month|Author|          Document|\n",
            "+-----+-----+------+------------------+\n",
            "|    a|  Jan|  John|This is a document|\n",
            "|    b|  Feb|  Mary|    A book by Mary|\n",
            "|    c|  Mar|  Luke| Newspaper article|\n",
            "|    d|  Apr|  Mark|              null|\n",
            "+-----+-----+------+------------------+\n",
            "\n"
          ]
        }
      ]
    },
    {
      "cell_type": "code",
      "source": [
        "bow0 = df.rdd\\\n",
        "    .filter(lambda x: x.Document)\\\n",
        "    .map( lambda x: x.Document.replace(',',' ').replace('.',' ').replace('-',' ').lower())\\\n",
        "    .flatMap(lambda x: x.split())\\\n",
        "    .map(lambda x: (x, 1))\n",
        "bow0.reduceByKey(lambda x,y:x+y).take(50)"
      ],
      "metadata": {
        "colab": {
          "base_uri": "https://localhost:8080/"
        },
        "id": "4DBT_EypKJ6Q",
        "outputId": "6d70ea33-b23c-48ef-88e1-05d4710cae5c"
      },
      "execution_count": 38,
      "outputs": [
        {
          "output_type": "execute_result",
          "data": {
            "text/plain": [
              "[('this', 1),\n",
              " ('is', 1),\n",
              " ('book', 1),\n",
              " ('mary', 1),\n",
              " ('newspaper', 1),\n",
              " ('a', 2),\n",
              " ('document', 1),\n",
              " ('by', 1),\n",
              " ('article', 1)]"
            ]
          },
          "metadata": {},
          "execution_count": 38
        }
      ]
    },
    {
      "cell_type": "code",
      "source": [
        "from pyspark.sql.functions import explode, split, regexp_replace, col, lower\n",
        "df.select(explode(split(regexp_replace(\"Document\", \"[,.-]\", \" \"), \"\\s+\")).alias(\"palabra\"))\\\n",
        "    .groupby(lower(col(\"palabra\")).alias(\"lower\"))\\\n",
        "    .count()\\\n",
        "    .show()"
      ],
      "metadata": {
        "colab": {
          "base_uri": "https://localhost:8080/"
        },
        "id": "rGuW7RhMKSbX",
        "outputId": "21c8ddb2-473a-4e7e-a4ee-a08454b10fbf"
      },
      "execution_count": 41,
      "outputs": [
        {
          "output_type": "stream",
          "name": "stdout",
          "text": [
            "+---------+-----+\n",
            "|    lower|count|\n",
            "+---------+-----+\n",
            "| document|    1|\n",
            "|       by|    1|\n",
            "|     mary|    1|\n",
            "|       is|    1|\n",
            "|        a|    2|\n",
            "|     this|    1|\n",
            "|     book|    1|\n",
            "|newspaper|    1|\n",
            "|  article|    1|\n",
            "+---------+-----+\n",
            "\n"
          ]
        }
      ]
    }
  ]
}