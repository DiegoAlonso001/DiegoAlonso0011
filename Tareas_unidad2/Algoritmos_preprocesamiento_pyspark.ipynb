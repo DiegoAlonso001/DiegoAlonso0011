{
  "nbformat": 4,
  "nbformat_minor": 0,
  "metadata": {
    "colab": {
      "name": "Algoritmos_preprocesamiento_pyspark.ipynb",
      "provenance": []
    },
    "kernelspec": {
      "name": "python3",
      "display_name": "Python 3"
    },
    "language_info": {
      "name": "python"
    }
  },
  "cells": [
    {
      "cell_type": "markdown",
      "source": [
        "# **ALGORITMOS DE PREPROCESAMIENTO EN PYSPARK**\n",
        "\n"
      ],
      "metadata": {
        "id": "PM-a-xOjSS1j"
      }
    },
    {
      "cell_type": "markdown",
      "source": [
        "## 1. Instalar pyspark"
      ],
      "metadata": {
        "id": "2WOjS3uUSSuP"
      }
    },
    {
      "cell_type": "code",
      "execution_count": 1,
      "metadata": {
        "id": "wyaRFMfclbZ3",
        "colab": {
          "base_uri": "https://localhost:8080/"
        },
        "outputId": "2ffb691d-b3aa-4abf-9255-38bbe945e425"
      },
      "outputs": [
        {
          "output_type": "stream",
          "name": "stdout",
          "text": [
            "Collecting pyspark\n",
            "  Downloading pyspark-3.2.0.tar.gz (281.3 MB)\n",
            "\u001b[K     |████████████████████████████████| 281.3 MB 38 kB/s \n",
            "\u001b[?25hCollecting py4j==0.10.9.2\n",
            "  Downloading py4j-0.10.9.2-py2.py3-none-any.whl (198 kB)\n",
            "\u001b[K     |████████████████████████████████| 198 kB 52.0 MB/s \n",
            "\u001b[?25hBuilding wheels for collected packages: pyspark\n",
            "  Building wheel for pyspark (setup.py) ... \u001b[?25l\u001b[?25hdone\n",
            "  Created wheel for pyspark: filename=pyspark-3.2.0-py2.py3-none-any.whl size=281805912 sha256=e28df31fbb6ca64a3e7f9d62b2eb7f9de482c6cd2558de8b6a64dfaa52a789a7\n",
            "  Stored in directory: /root/.cache/pip/wheels/0b/de/d2/9be5d59d7331c6c2a7c1b6d1a4f463ce107332b1ecd4e80718\n",
            "Successfully built pyspark\n",
            "Installing collected packages: py4j, pyspark\n",
            "Successfully installed py4j-0.10.9.2 pyspark-3.2.0\n"
          ]
        }
      ],
      "source": [
        "! pip install pyspark"
      ]
    },
    {
      "cell_type": "markdown",
      "source": [
        "## 2. Guardar la libería en una variable con SparkContext"
      ],
      "metadata": {
        "id": "Pw_UwFgcSWJM"
      }
    },
    {
      "cell_type": "code",
      "source": [
        "from pyspark import SparkContext\n",
        "sc = SparkContext()"
      ],
      "metadata": {
        "id": "Mb3GOulJPygE"
      },
      "execution_count": 2,
      "outputs": []
    },
    {
      "cell_type": "markdown",
      "source": [
        "## 3. Algoritmo Similitud de Cosenos"
      ],
      "metadata": {
        "id": "o4MZ_GQIATSI"
      }
    },
    {
      "cell_type": "code",
      "source": [
        "#Crear 1er vector \n",
        "vector1 = [1, 1, 1, 1, 0, 1, 1, 0, 0, 1] \n",
        "#Crear 2do vector\n",
        "vector2 = [0, 1, 1, 1, 1, 0, 1, 1, 0, 1] \n",
        "#Unir vectores\n",
        "vector3 = list(zip(vector1,vector2))"
      ],
      "metadata": {
        "id": "81WfxUmrAPl9"
      },
      "execution_count": null,
      "outputs": []
    },
    {
      "cell_type": "code",
      "source": [
        "#Crear RDD para cada vector y paralelizar\n",
        "cosenos1RDD = sc.parallelize(vector1)\n",
        "cosenos2RDD = sc.parallelize(vector2)\n",
        "cosenos3RDD = sc.parallelize(vector3)"
      ],
      "metadata": {
        "id": "1Qb_4ebtAPl_"
      },
      "execution_count": null,
      "outputs": []
    },
    {
      "cell_type": "code",
      "source": [
        "#Función RDD\n",
        "# Aplicar una funcion map multiplicar ambos valores y sumar, luego elevar al cuadrado estos valores para sacer raíz y dividir la función\n",
        "respuesta = cosenos3RDD.map(lambda x: x[0]*x[1]).sum() / (cosenos1RDD.map(lambda x:x**2).sum()**(1/2) * cosenos2RDD.map(lambda x:x**2).sum()**(1/2))\n",
        "print (\"La similud es: \",respuesta)"
      ],
      "metadata": {
        "colab": {
          "base_uri": "https://localhost:8080/"
        },
        "outputId": "447b37db-a6c6-4139-d8ca-b1ba8db314ee",
        "id": "cshcJKwSAPmA"
      },
      "execution_count": null,
      "outputs": [
        {
          "output_type": "stream",
          "name": "stdout",
          "text": [
            "La similud es:  0.7142857142857142\n"
          ]
        }
      ]
    },
    {
      "cell_type": "markdown",
      "source": [
        "## 4. Algoritmo de escalamiento de datos"
      ],
      "metadata": {
        "id": "87k5e2CKAfFG"
      }
    },
    {
      "cell_type": "code",
      "source": [
        "x = [55,6,17,28,19,4,16,15,12,18,52,14,22,7,4,30,51,5]"
      ],
      "metadata": {
        "id": "shoUikEtAaY8"
      },
      "execution_count": null,
      "outputs": []
    },
    {
      "cell_type": "code",
      "source": [
        "#Crear RDD\n",
        "xRDD = sc.parallelize(x)"
      ],
      "metadata": {
        "id": "S3fhiEeFAaY9"
      },
      "execution_count": null,
      "outputs": []
    },
    {
      "cell_type": "code",
      "source": [
        "#Función RDD\n",
        "#Hallar el valor maximo\n",
        "minRDD = xRDD.max()\n",
        "#Hallar el valor minimo\n",
        "maxRDD = xRDD.min()\n",
        "#Hallar el escalamiento\n",
        "scaleRDD = xRDD.map(lambda x: (x - minRDD) / (maxRDD - minRDD))\n",
        "#Mostrar datos\n",
        "scaleRDD.collect()"
      ],
      "metadata": {
        "colab": {
          "base_uri": "https://localhost:8080/"
        },
        "outputId": "097fc40c-f6b4-415b-ecb8-246484623e3c",
        "id": "WhJUVHwUAaY9"
      },
      "execution_count": null,
      "outputs": [
        {
          "output_type": "execute_result",
          "data": {
            "text/plain": [
              "[-0.0,\n",
              " 0.9607843137254902,\n",
              " 0.7450980392156863,\n",
              " 0.5294117647058824,\n",
              " 0.7058823529411765,\n",
              " 1.0,\n",
              " 0.7647058823529411,\n",
              " 0.7843137254901961,\n",
              " 0.8431372549019608,\n",
              " 0.7254901960784313,\n",
              " 0.058823529411764705,\n",
              " 0.803921568627451,\n",
              " 0.6470588235294118,\n",
              " 0.9411764705882353,\n",
              " 1.0,\n",
              " 0.49019607843137253,\n",
              " 0.0784313725490196,\n",
              " 0.9803921568627451]"
            ]
          },
          "metadata": {},
          "execution_count": 10
        }
      ]
    },
    {
      "cell_type": "markdown",
      "source": [
        "## 5. Algoritmo distancia de Mikowski"
      ],
      "metadata": {
        "id": "7y50ZsaxRQ1p"
      }
    },
    {
      "cell_type": "code",
      "source": [
        "#Creamos el primer vector \n",
        "vector1 = [1,2,3,5,6,7,8,9,10,11] \n",
        "#Creamos el segundo vector\n",
        "vector2 = [3,2,1,0,10,9,8,7,6,5] \n",
        "#Inicializar p\n",
        "p = 3"
      ],
      "metadata": {
        "id": "PeLhmBEMPwPO"
      },
      "execution_count": 41,
      "outputs": []
    },
    {
      "cell_type": "code",
      "source": [
        "#Crear un vector 3 con una tuplauna tupla la cual se creara con un zip, \n",
        "#en la cual se unirán los 2 vectores\n",
        "vector3 = list(zip(vector1,vector2))"
      ],
      "metadata": {
        "id": "B5oBF1wsRMDK"
      },
      "execution_count": 42,
      "outputs": []
    },
    {
      "cell_type": "code",
      "source": [
        "#Función RDD\n",
        "mikowskiRDD = sc.parallelize(vector3)"
      ],
      "metadata": {
        "id": "I8syuBEbSdoG"
      },
      "execution_count": 43,
      "outputs": []
    },
    {
      "cell_type": "code",
      "source": [
        "#Aplicar función\n",
        "#Crear una función lambda donde se utilizarán las tuplas para restar el 1er vector menos el segundo\n",
        "#Luego sumaremos los valores y sacar la raíz\n",
        "mikowskiRDD.map(lambda x: abs(x[0] - x[1])**p).sum()**(1.0/p)"
      ],
      "metadata": {
        "colab": {
          "base_uri": "https://localhost:8080/"
        },
        "id": "yAw7MsXRShti",
        "outputId": "572b3f99-8c4e-4e37-a2e6-139424683aa6"
      },
      "execution_count": 44,
      "outputs": [
        {
          "output_type": "execute_result",
          "data": {
            "text/plain": [
              "7.942293073037288"
            ]
          },
          "metadata": {},
          "execution_count": 44
        }
      ]
    },
    {
      "cell_type": "markdown",
      "source": [
        "## 6. Algoritmo distancia de Jaccard"
      ],
      "metadata": {
        "id": "cKNPLh9GA5mg"
      }
    },
    {
      "cell_type": "code",
      "source": [
        "x = [6,8,4,2,11,14,1,3,7,8]\n",
        "y = [1,10,3,9,16,18,21,12,13]"
      ],
      "metadata": {
        "id": "BhOsVIImBuDA"
      },
      "execution_count": 37,
      "outputs": []
    },
    {
      "cell_type": "code",
      "source": [
        "#Crear un vector donde se tendrá una tupla la cual con un zip donde se uni´ran ambos vectores\n",
        "z = list(zip(x,y))"
      ],
      "metadata": {
        "id": "yZwPtSJTBuDZ"
      },
      "execution_count": 38,
      "outputs": []
    },
    {
      "cell_type": "code",
      "source": [
        "#Crear RDD\n",
        "zRDD = sc.parallelize(z)"
      ],
      "metadata": {
        "id": "KUScrfMMBuDZ"
      },
      "execution_count": 39,
      "outputs": []
    },
    {
      "cell_type": "code",
      "source": [
        "#Función RDD\n",
        "#Crear una variable sumando los productos \n",
        "sumProdRDD = zRDD.map(lambda x: x[0]*x[1]).sum()\n",
        "#Usar la función map\n",
        "sumSumRDD = zRDD.map(lambda x: 1 if (x[0]==1 or x[1]==1) else 0 ).sum()\n",
        "#Restar 1 a la divisipon de las variables \n",
        "jaccardRDD = 1 - (sumProdRDD / sumSumRDD)\n",
        "print(\"La distancia de Jaccard es: \",jaccardRDD)"
      ],
      "metadata": {
        "colab": {
          "base_uri": "https://localhost:8080/"
        },
        "outputId": "6f6c47c7-5db2-42e1-935a-f781a164a19e",
        "id": "m3MyQ23CBuDa"
      },
      "execution_count": 40,
      "outputs": [
        {
          "output_type": "stream",
          "name": "stdout",
          "text": [
            "La distancia de Jaccard es:  -345.0\n"
          ]
        }
      ]
    },
    {
      "cell_type": "markdown",
      "source": [
        "##7. Algoritmo de normalizacion"
      ],
      "metadata": {
        "id": "TKT0ptZUcBu0"
      }
    },
    {
      "cell_type": "code",
      "source": [
        "# Importar librería math\n",
        "import math\n",
        "x = [6,9,65,32,12,1,5,6,22,24,60]"
      ],
      "metadata": {
        "id": "zavqy8rDqCEq"
      },
      "execution_count": 21,
      "outputs": []
    },
    {
      "cell_type": "code",
      "source": [
        "#Crear RDD\n",
        "xRDD = sc.parallelize(x)"
      ],
      "metadata": {
        "id": "w-Eqg6ksqEFS"
      },
      "execution_count": 22,
      "outputs": []
    },
    {
      "cell_type": "code",
      "source": [
        "# Función RDD\n",
        "# Elevar al cuadrado los datos, sumar los valores luego sacar la raíz cuadrada con la función map\n",
        "nxRDD = (xRDD.map(lambda x: x**2).sum()) ** (1/2)\n",
        "# Dividir a los datos iniciales\n",
        "normRDD = xRDD.map(lambda x: x/nxRDD)\n",
        "#Mostrar resultados\n",
        "normRDD.collect()"
      ],
      "metadata": {
        "colab": {
          "base_uri": "https://localhost:8080/"
        },
        "id": "eTqV2w7rb-9x",
        "outputId": "5d954460-f4ee-416e-c891-7dc9df22d9e3"
      },
      "execution_count": 23,
      "outputs": [
        {
          "output_type": "execute_result",
          "data": {
            "text/plain": [
              "[0.0593158809213532,\n",
              " 0.0889738213820298,\n",
              " 0.6425887099813263,\n",
              " 0.31635136491388377,\n",
              " 0.1186317618427064,\n",
              " 0.009885980153558868,\n",
              " 0.049429900767794334,\n",
              " 0.0593158809213532,\n",
              " 0.2174915633782951,\n",
              " 0.2372635236854128,\n",
              " 0.593158809213532]"
            ]
          },
          "metadata": {},
          "execution_count": 23
        }
      ]
    }
  ]
}