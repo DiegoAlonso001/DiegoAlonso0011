{
  "cells": [
    {
      "cell_type": "markdown",
      "metadata": {
        "id": "3vKXHSjgRola"
      },
      "source": [
        "# **Práctica de laboratorio 02: Regresión lineal**\n",
        "###**Resolución**\n",
        "###**Apellidos y nombres: Dorado Torres Diego Alonso**\n",
        "###**Código: 170594**\n",
        "\n",
        "#### Este notebook mostra uma implementação básica de Regressão Linear e o uso da biblioteca [MLlib](http://spark.apache.org/docs/1.4.0/api/python/pyspark.ml.html) do PySpark para a tarefa de regressão na base de dados [Million Song Dataset](http://labrosa.ee.columbia.edu/millionsong/) do repositório [UCI Machine Learning Repository](https://archive.ics.uci.edu/ml/datasets/YearPredictionMSD). Nosso objetivo é predizer o ano de uma música através dos seus atributos de áudio.\n",
        "\n",
        "#### ** Neste notebook: **\n",
        "+  ####*Parte 1:* Leitura e *parsing* da base de dados\n",
        " + #### *Visualização 1:* Atributos\n",
        " + #### *Visualização 2:* Deslocamento das variáveis de interesse\n",
        "+  ####*Parte 2:* Criar um preditor de referência\n",
        " + #### *Visualização 3:* Valores Preditos vs. Verdadeiros\n",
        "+  ####*Parte 3:* Treinar e avaliar um modelo de regressão linear\n",
        " + #### *Visualização 4:* Erro de Treino\n",
        "+  ####*Parte 4:* Treinar usando MLlib e ajustar os hiperparâmetros\n",
        " + #### *Visualização 5:* Predições do Melhor modelo\n",
        " + #### *Visualização 6:* Mapa de calor dos hiperparâmetros\n",
        "+  ####*Parte 5:* Adicionando interações entre atributos\n",
        "+  ####*Parte 6:* Aplicando na base de dados de Crimes de São Francisco\n",
        " \n",
        "#### Para referência, consulte os métodos relevantes do PySpark em [Spark's Python API](https://spark.apache.org/docs/latest/api/python/reference/index.html) e do NumPy em [NumPy Reference](http://docs.scipy.org/doc/numpy/reference/index.html)"
      ]
    },
    {
      "cell_type": "markdown",
      "source": [
        "### **Preliminares: Instalando**"
      ],
      "metadata": {
        "id": "Td8S8JN3WZV7"
      }
    },
    {
      "cell_type": "code",
      "source": [
        "!pip install pyspark"
      ],
      "metadata": {
        "colab": {
          "base_uri": "https://localhost:8080/"
        },
        "id": "gbgxmZmrFGn7",
        "outputId": "88127dcd-4fd1-41e1-905b-7bd02a99fdc8"
      },
      "execution_count": null,
      "outputs": [
        {
          "output_type": "stream",
          "name": "stdout",
          "text": [
            "Requirement already satisfied: pyspark in /usr/local/lib/python3.7/dist-packages (3.2.1)\n",
            "Requirement already satisfied: py4j==0.10.9.3 in /usr/local/lib/python3.7/dist-packages (from pyspark) (0.10.9.3)\n"
          ]
        }
      ]
    },
    {
      "cell_type": "code",
      "source": [
        "from pyspark.sql import SparkSession"
      ],
      "metadata": {
        "id": "LnYumoJ0FEvE"
      },
      "execution_count": null,
      "outputs": []
    },
    {
      "cell_type": "code",
      "source": [
        "from pyspark import SparkContext\n",
        "sc=SparkContext()"
      ],
      "metadata": {
        "id": "637VXxSEFmdU"
      },
      "execution_count": null,
      "outputs": []
    },
    {
      "cell_type": "markdown",
      "metadata": {
        "id": "zjuaTUaPRolj"
      },
      "source": [
        "### ** Parte 1: Leitura e *parsing* da base de dados**"
      ]
    },
    {
      "cell_type": "markdown",
      "metadata": {
        "id": "BILnpahpRolk"
      },
      "source": [
        "#### ** (1a) Verificando os dados disponíveis **\n",
        "\n",
        "#### Os dados da base que iremos utilizar estão armazenados em um arquivo texto. No primeiro passo vamos transformar os dados textuais em uma RDD e verificar a formatação dos mesmos. Altere a segunda célula para verificar quantas amostras existem nessa base de dados utilizando o método  [count method](https://spark.apache.org/docs/latest/api/python/reference/index.html).\n",
        "\n",
        "#### Reparem que o rótulo dessa base é o primeiro registro, representando o ano."
      ]
    },
    {
      "cell_type": "code",
      "execution_count": null,
      "metadata": {
        "id": "UNU9c5W8Rolm"
      },
      "outputs": [],
      "source": [
        "# carregar base de dados\n",
        "import os.path\n",
        "fileName = os.path.join('Data', 'millionsong.txt')\n",
        "\n",
        "numPartitions = 2\n",
        "rawData = sc.textFile(fileName, numPartitions)"
      ]
    },
    {
      "cell_type": "code",
      "execution_count": null,
      "metadata": {
        "id": "kG_HM3NARolo"
      },
      "outputs": [],
      "source": [
        "# EXERCICIO\n",
        "numPoints = rawData.count()          #Solución\n",
        "print (numPoints)\n",
        "samplePoints = rawData.take(5)\n",
        "print (samplePoints)"
      ]
    },
    {
      "cell_type": "code",
      "execution_count": null,
      "metadata": {
        "id": "GXrs73DqRolq"
      },
      "outputs": [],
      "source": [
        "# TEST Load and check the data (1a)\n",
        "assert numPoints==6724, 'incorrect value for numPoints'\n",
        "print(\"OK\")\n",
        "assert len(samplePoints)==5, 'incorrect length for samplePoints'\n",
        "print(\"OK\")"
      ]
    },
    {
      "cell_type": "markdown",
      "metadata": {
        "id": "i4-LLZUaRolr"
      },
      "source": [
        "#### ** (1b) Usando `LabeledPoint` **\n",
        "#### Na MLlib, bases de dados rotuladas devem ser armazenadas usando o objeto [LabeledPoint](https://spark.apache.org/docs/latest/api/python/reference/api/pyspark.mllib.regression.LabeledPoint.html#pyspark.mllib.regression.LabeledPoint).  Escreva a função `parsePoint` que recebe como entrada uma amostra de dados, transforma os dados usandoo comando [unicode.split](https://docs.python.org/2/library/string.html#string.split), em seguida mapeando para `float` e retorna um `LabeledPoint`.  \n",
        "\n",
        "#### Aplique essa função na variável `samplePoints` da célula anterior e imprima os atributos e rótulo utilizando os atributos `LabeledPoint.features` e `LabeledPoint.label`. Finalmente, calcule o número de atributos nessa base de dados."
      ]
    },
    {
      "cell_type": "code",
      "execution_count": null,
      "metadata": {
        "id": "AybEjKhuRolt"
      },
      "outputs": [],
      "source": [
        "from pyspark.mllib.regression import LabeledPoint\n",
        "import numpy as np\n",
        "\n",
        "# Here is a sample raw data point:\n",
        "# '2001.0,0.884,0.610,0.600,0.474,0.247,0.357,0.344,0.33,0.600,0.425,0.60,0.419'\n",
        "# In this raw data point, 2001.0 is the label, and the remaining values are features"
      ]
    },
    {
      "cell_type": "code",
      "execution_count": null,
      "metadata": {
        "id": "RGK-C4PlRolv"
      },
      "outputs": [],
      "source": [
        "# EXERCICIO\n",
        "def parsePoint(line):\n",
        "    \"\"\"Converts a comma separated unicode string into a `LabeledPoint`.\n",
        "\n",
        "    Args:\n",
        "        line (unicode): Comma separated unicode string where the first element is the label and the\n",
        "            remaining elements are features.\n",
        "\n",
        "    Returns:\n",
        "        LabeledPoint: The line is converted into a `LabeledPoint`, which consists of a label and\n",
        "            features.\n",
        "    \"\"\"\n",
        "    Point = list(map(float,line.split(',')))     #Solución\n",
        "    return LabeledPoint(Point[0],Point[1:])      #Solución\n",
        "\n",
        "parsedSamplePoints = list(map(parsePoint,samplePoints))\n",
        "firstPointFeatures = parsedSamplePoints[0].features\n",
        "firstPointLabel = parsedSamplePoints[0].label\n",
        "print (firstPointFeatures, firstPointLabel)\n",
        "\n",
        "d = len(firstPointFeatures)\n",
        "print (d)"
      ]
    },
    {
      "cell_type": "code",
      "execution_count": null,
      "metadata": {
        "id": "Uybz4wgFRoly"
      },
      "outputs": [],
      "source": [
        "# TEST Using LabeledPoint (1b)\n",
        "assert isinstance(firstPointLabel, float), 'label must be a float'\n",
        "expectedX0 = [0.8841,0.6105,0.6005,0.4747,0.2472,0.3573,0.3441,0.3396,0.6009,0.4257,0.6049,0.4192]\n",
        "assert np.allclose(expectedX0, firstPointFeatures, 1e-4, 1e-4), 'incorrect features for firstPointFeatures'\n",
        "assert np.allclose(2001.0, firstPointLabel), 'incorrect label for firstPointLabel'\n",
        "assert d == 12, 'incorrect number of features'\n",
        "print(\"OK\")"
      ]
    },
    {
      "cell_type": "markdown",
      "metadata": {
        "id": "hFM0c590Rol0"
      },
      "source": [
        "#### **Visualização 1: Atributos**\n",
        "\n",
        "#### A próxima célula mostra uma forma de visualizar os atributos através de um mapa de calor. Nesse mapa mostramos os 50 primeiros objetos e seus atributos representados por tons de cinza, sendo o branco representando o valor 0 e o preto representando o valor 1.\n",
        "\n",
        "#### Esse tipo de visualização ajuda a perceber a variação dos valores dos atributos. Pouca mudança de tons significa que os valores daquele atributo apresenta uma variância baixa."
      ]
    },
    {
      "cell_type": "code",
      "execution_count": null,
      "metadata": {
        "id": "fcBcVWVQRol1"
      },
      "outputs": [],
      "source": [
        "import matplotlib.pyplot as plt\n",
        "import matplotlib.cm as cm\n",
        "%matplotlib inline\n",
        "\n",
        "sampleMorePoints = rawData.take(50)\n",
        "\n",
        "parsedSampleMorePoints = map(parsePoint, sampleMorePoints)\n",
        "dataValues = list(map(lambda lp: lp.features.toArray(), parsedSampleMorePoints))\n",
        "\n",
        "def preparePlot(xticks, yticks, figsize=(10.5, 6), hideLabels=False, gridColor='#999999',\n",
        "                gridWidth=1.0):\n",
        "    \"\"\"Template for generating the plot layout.\"\"\"\n",
        "    plt.close()\n",
        "    fig, ax = plt.subplots(figsize=figsize, facecolor='white', edgecolor='white')\n",
        "    ax.axes.tick_params(labelcolor='#999999', labelsize='10')\n",
        "    for axis, ticks in [(ax.get_xaxis(), xticks), (ax.get_yaxis(), yticks)]:\n",
        "        axis.set_ticks_position('none')\n",
        "        axis.set_ticks(ticks)\n",
        "        axis.label.set_color('#999999')\n",
        "        if hideLabels: axis.set_ticklabels([])\n",
        "    plt.grid(color=gridColor, linewidth=gridWidth, linestyle='-')\n",
        "    map(lambda position: ax.spines[position].set_visible(False), ['bottom', 'top', 'left', 'right'])\n",
        "    return fig, ax\n",
        "\n",
        "# generate layout and plot\n",
        "fig, ax = preparePlot(np.arange(.5, 11, 1), np.arange(.5, 49, 1), figsize=(8,7), hideLabels=True,\n",
        "                      gridColor='#eeeeee', gridWidth=1.1)\n",
        "image = plt.imshow(dataValues,interpolation='nearest', aspect='auto', cmap=cm.Greys)\n",
        "for x, y, s in zip(np.arange(-.125, 12, 1), np.repeat(-.75, 12), [str(x) for x in range(12)]):\n",
        "    plt.text(x, y, s, color='#999999', size='10')\n",
        "plt.text(4.7, -3, 'Feature', color='#999999', size='11'), ax.set_ylabel('Observation')\n",
        "pass"
      ]
    },
    {
      "cell_type": "markdown",
      "metadata": {
        "id": "f4UQ6w_aRol2"
      },
      "source": [
        "#### **(1c) Deslocando os rótulos **\n",
        "\n",
        "#### Para melhor visualizar as soluções obtidas, calcular o erro de predição e visualizar a relação dos atributos com os rótulos, costuma-se deslocar os rótulos para iniciarem em zero.\n",
        "\n",
        "#### Como primeiro passo, aplique a função `parsePoint` no RDD criado anteriormente, em seguida, crie uma RDD apenas com o `.label` de cada amostra. Finalmente, calcule os valores mínimos e máximos."
      ]
    },
    {
      "cell_type": "code",
      "execution_count": null,
      "metadata": {
        "id": "xy0PPkFFRol3"
      },
      "outputs": [],
      "source": [
        "# EXERCICIO\n",
        "parsedDataInit = rawData.map(parsePoint)    #Solución\n",
        "onlyLabels = parsedDataInit.map(lambda x: x.label)  #Solución\n",
        "minYear = onlyLabels.min()  #Solución\n",
        "maxYear = onlyLabels.max()  #Solución\n",
        "print (maxYear, minYear)"
      ]
    },
    {
      "cell_type": "code",
      "execution_count": null,
      "metadata": {
        "id": "eU17rB3pRol4"
      },
      "outputs": [],
      "source": [
        "# TEST Find the range (1c)\n",
        "assert len(parsedDataInit.take(1)[0].features)==12, 'unexpected number of features in sample point'\n",
        "sumFeatTwo = parsedDataInit.map(lambda lp: lp.features[2]).sum()\n",
        "assert np.allclose(sumFeatTwo, 3158.96224351), 'parsedDataInit has unexpected values'\n",
        "yearRange = maxYear - minYear\n",
        "assert yearRange == 89, 'incorrect range for minYear to maxYear'\n",
        "print(\"OK\")"
      ]
    },
    {
      "cell_type": "code",
      "execution_count": null,
      "metadata": {
        "id": "1Rm3cWUnRol4"
      },
      "outputs": [],
      "source": [
        "# EXERCICIO: subtraia os labels do valor mínimo\n",
        "parsedDataInit.map(lambda p: LabeledPoint(p.label-minYear, p.features))    #Solución\n",
        "# Should be a LabeledPoint\n",
        "print type(parsedData.take(1)[0])\n",
        "# View the first point\n",
        "print ('\\n{0}'.format(parsedData.take(1)))"
      ]
    },
    {
      "cell_type": "code",
      "execution_count": null,
      "metadata": {
        "id": "uCyYLxMLRol5"
      },
      "outputs": [],
      "source": [
        "# TEST Shift labels (1d)\n",
        "oldSampleFeatures = parsedDataInit.take(1)[0].features\n",
        "newSampleFeatures = parsedData.take(1)[0].features\n",
        "assert np.allclose(oldSampleFeatures, newSampleFeatures), 'new features do not match old features'\n",
        "sumFeatTwo = parsedData.map(lambda lp: lp.features[2]).sum()\n",
        "assert np.allclose(sumFeatTwo, 3158.96224351), 'parsedData has unexpected values'\n",
        "minYearNew = parsedData.map(lambda lp: lp.label).min()\n",
        "maxYearNew = parsedData.map(lambda lp: lp.label).max()\n",
        "assert minYearNew == 0, 'incorrect min year in shifted data'\n",
        "assert maxYearNew == 89, 'incorrect max year in shifted data'\n",
        "print(\"OK\")"
      ]
    },
    {
      "cell_type": "markdown",
      "metadata": {
        "id": "hGeD4YHmRol6"
      },
      "source": [
        "#### ** (1d) Conjuntos de treino, validação e teste **\n",
        "\n",
        "#### Como próximo passo, vamos dividir nossa base de dados em conjunto de treino, validação e teste conforme discutido em sala de aula. Use o método [randomSplit method](https://spark.apache.org/docs/latest/api/python/reference/api/pyspark.RDD.randomSplit.html) com os pesos (weights) e a semente aleatória (seed) especificados na célula abaixo parar criar a divisão das bases. Em seguida, utilizando o método `cache()` faça o pré-armazenamento da base processada.\n",
        "\n",
        "#### Esse comando faz o processamento da base através das transformações e armazena em um novo RDD que pode ficar armazenado em memória, se couber, ou em um arquivo temporário."
      ]
    },
    {
      "cell_type": "code",
      "execution_count": null,
      "metadata": {
        "id": "x21UgQwZRol6"
      },
      "outputs": [],
      "source": [
        "# EXERCICIO\n",
        "weights = [.8, .1, .1]\n",
        "seed = 42\n",
        "parsedTrainData, parsedValData, parsedTestData = parsedData.randomSplit(weights, seed) #Solución\n",
        "parsedTrainData.cache()     #Solución\n",
        "parsedValData.cache()          #Solución\n",
        "parsedTestData.cache()        #Solución\n",
        "nTrain = parsedTrainData.count()\n",
        "nVal = parsedValData.count()\n",
        "nTest = parsedTestData.count()\n",
        "\n",
        "print (nTrain, nVal, nTest, nTrain + nVal + nTest)\n",
        "print (parsedData.count())"
      ]
    },
    {
      "cell_type": "code",
      "execution_count": null,
      "metadata": {
        "id": "dNHwDAyERol7"
      },
      "outputs": [],
      "source": [
        "# TEST Training, validation, and test sets (1e)\n",
        "assert parsedTrainData.getNumPartitions() == numPartitions, 'parsedTrainData has wrong number of partitions'\n",
        "assert parsedValData.getNumPartitions() == numPartitions, 'parsedValData has wrong number of partitions'\n",
        "assert parsedTestData.getNumPartitions() == numPartitions,'parsedTestData has wrong number of partitions'\n",
        "assert len(parsedTrainData.take(1)[0].features) == 12, 'parsedTrainData has wrong number of features'\n",
        "sumFeatTwo = (parsedTrainData\n",
        "              .map(lambda lp: lp.features[2])\n",
        "              .sum())\n",
        "sumFeatThree = (parsedValData\n",
        "                .map(lambda lp: lp.features[3])\n",
        "                .reduce(lambda x, y: x + y))\n",
        "sumFeatFour = (parsedTestData\n",
        "               .map(lambda lp: lp.features[4])\n",
        "               .reduce(lambda x, y: x + y))\n",
        "assert np.allclose([sumFeatTwo, sumFeatThree, sumFeatFour],2526.87757656, 297.340394298, 184.235876654), 'parsed Train, Val, Test data has unexpected values'\n",
        "assert nTrain + nVal + nTest == 6724, 'unexpected Train, Val, Test data set size'\n",
        "assert nTrain == 5359, 'unexpected value for nTrain'\n",
        "assert nVal == 678, 'unexpected value for nVal'\n",
        "assert nTest == 687, 'unexpected value for nTest'\n",
        "print(\"OK\")"
      ]
    },
    {
      "cell_type": "markdown",
      "metadata": {
        "id": "_uIRQii_Rol8"
      },
      "source": [
        "### ** Part 2: Criando o modelo de *baseline* **"
      ]
    },
    {
      "cell_type": "markdown",
      "metadata": {
        "id": "Le4Cl1lfRol9"
      },
      "source": [
        "#### **(2a) Rótulo médio **\n",
        "\n",
        "#### O baseline é útil para verificarmos que nosso modelo de regressão está funcionando. Ele deve ser um modelo bem simples que qualquer algoritmo possa fazer melhor.\n",
        "\n",
        "#### Um baseline muito utilizado é fazer a mesma predição independente dos dados analisados utilizando o rótulo médio do conjunto de treino. Calcule a média dos rótulos deslocados para a base de treino, utilizaremos esse valor posteriormente para comparar o erro de predição.  Use um método apropriado para essa tarefa, consulte o [RDD API](https://spark.apache.org/docs/latest/rdd-programming-guide.html)."
      ]
    },
    {
      "cell_type": "code",
      "execution_count": null,
      "metadata": {
        "id": "MQCNOLwjRol-"
      },
      "outputs": [],
      "source": [
        "# EXERCICIO\n",
        "averageTrainYear = (parsedTrainData\n",
        "                    .map(lambda p: p.label)\n",
        "                    .mean()\n",
        "                   )  #Solución\n",
        "print averageTrainYear"
      ]
    },
    {
      "cell_type": "code",
      "execution_count": null,
      "metadata": {
        "id": "r59lXzAaRol_"
      },
      "outputs": [],
      "source": [
        "# TEST Average label (2a)\n",
        "assert np.allclose(averageTrainYear, 53.6792311), 'incorrect value for averageTrainYear'\n",
        "print(\"OK\")"
      ]
    },
    {
      "cell_type": "markdown",
      "metadata": {
        "id": "HIX2GJhpRomA"
      },
      "source": [
        "#### **(2b) Erro quadrático médio **\n",
        "\n",
        "#### Para comparar a performance em problemas de regressão, geralmente é utilizado o Erro Quadrático Médio ([RMSE](http://en.wikipedia.org/wiki/Root-mean-square_deviation)).  Implemente uma função que calcula o RMSE a partir de um RDD de tuplas (rótulo, predição)."
      ]
    },
    {
      "cell_type": "code",
      "execution_count": null,
      "metadata": {
        "id": "K5PsGVASRomA"
      },
      "outputs": [],
      "source": [
        "# EXERCICIO\n",
        "def squaredError(label, prediction):\n",
        "    \"\"\"Calculates the the squared error for a single prediction.\n",
        "\n",
        "    Args:\n",
        "        label (float): The correct value for this observation.\n",
        "        prediction (float): The predicted value for this observation.\n",
        "\n",
        "    Returns:\n",
        "        float: The difference between the `label` and `prediction` squared.\n",
        "    \"\"\"\n",
        "    return (label-prediction)**2  #Solución\n",
        "\n",
        "def calcRMSE(labelsAndPreds):\n",
        "    \"\"\"Calculates the root mean squared error for an `RDD` of (label, prediction) tuples.\n",
        "\n",
        "    Args:\n",
        "        labelsAndPred (RDD of (float, float)): An `RDD` consisting of (label, prediction) tuples.\n",
        "\n",
        "    Returns:\n",
        "        float: The square root of the mean of the squared errors.\n",
        "    \"\"\"\n",
        "    return np.sqrt(labelsAndPreds.map(lambda lp: squaredError(lp[0],lp[1])).mean())     #Solución\n",
        "\n",
        "labelsAndPreds = sc.parallelize([(3., 1.), (1., 2.), (2., 2.)])\n",
        "# RMSE = sqrt[((3-1)^2 + (1-2)^2 + (2-2)^2) / 3] = 1.291\n",
        "exampleRMSE = calcRMSE(labelsAndPreds)\n",
        "print (exampleRMSE)"
      ]
    },
    {
      "cell_type": "code",
      "execution_count": null,
      "metadata": {
        "id": "C7SL4QFIRomB"
      },
      "outputs": [],
      "source": [
        "# TEST Root mean squared error (2b)\n",
        "assert np.allclose(squaredError(3, 1), 4.), 'incorrect definition of squaredError'\n",
        "assert np.allclose(exampleRMSE, 1.29099444874), 'incorrect value for exampleRMSE'\n",
        "print(\"OK\")"
      ]
    },
    {
      "cell_type": "markdown",
      "metadata": {
        "id": "FbyGOPDzRomC"
      },
      "source": [
        "#### **(2c) RMSE do baseline para os conjuntos de treino, validação e teste **\n",
        "\n",
        "#### Vamos calcular o RMSE para nossa baseline. Primeiro crie uma RDD de (rótulo, predição) para cada conjunto, e então chame a função `calcRMSE`."
      ]
    },
    {
      "cell_type": "code",
      "execution_count": null,
      "metadata": {
        "id": "fNx1N4PvRomC"
      },
      "outputs": [],
      "source": [
        "# EXERCICIO\n",
        "labelsAndPredsTrain = parsedTrainData.map(lambda p: (p.label, averageTrainYear))   #Solución\n",
        "rmseTrainBase = calcRMSE(labelsAndPredsTrain)\n",
        "\n",
        "labelsAndPredsVal = parsedValData.map(lambda p: (p.label, averageTrainYear))     #Solución\n",
        "rmseValBase = calcRMSE(labelsAndPredsVal) \n",
        "\n",
        "labelsAndPredsTest = parsedTestData.map(lambda p: (p.label, averageTrainYear))    #Solución\n",
        "rmseTestBase = calcRMSE(labelsAndPredsTest)\n",
        "\n",
        "print ('Baseline Train RMSE = {0:.3f}'.format(rmseTrainBase))\n",
        "print ('Baseline Validation RMSE = {0:.3f}'.format(rmseValBase))\n",
        "print ('Baseline Test RMSE = {0:.3f}'.format(rmseTestBase))"
      ]
    },
    {
      "cell_type": "code",
      "execution_count": null,
      "metadata": {
        "id": "tHE_MPHXRomD"
      },
      "outputs": [],
      "source": [
        "# TEST Training, validation and test RMSE (2c)\n",
        "assert np.allclose([rmseTrainBase, rmseValBase, rmseTestBase],[21.506125957738682, 20.877445428452468, 21.260493955081916]), 'incorrect RMSE value'\n",
        "print(\"OK\")"
      ]
    },
    {
      "cell_type": "markdown",
      "metadata": {
        "id": "0d6oyvYSRomD"
      },
      "source": [
        "#### ** Visualização 2: Predição vs. real **\n",
        "\n",
        "#### Vamos visualizar as predições no conjunto de validação. Os gráficos de dispersão abaixo plotam os pontos com a coordenada X sendo o valor predito pelo modelo e a coordenada Y o valor real do rótulo.\n",
        "\n",
        "#### O primeiro gráfico mostra a situação ideal, um modelo que acerta todos os rótulos. O segundo gráfico mostra o desempenho do modelo baseline. As cores dos pontos representam o erro quadrático daquela predição, quanto mais próxima do laranja, maior o erro."
      ]
    },
    {
      "cell_type": "code",
      "execution_count": null,
      "metadata": {
        "id": "_Op9BKDdRomD"
      },
      "outputs": [],
      "source": [
        "from matplotlib.colors import ListedColormap, Normalize\n",
        "from matplotlib.cm import get_cmap\n",
        "cmap = get_cmap('YlOrRd')\n",
        "norm = Normalize()\n",
        "\n",
        "actual = np.asarray(parsedValData\n",
        "                    .map(lambda lp: lp.label)\n",
        "                    .collect())\n",
        "error = np.asarray(parsedValData\n",
        "                   .map(lambda lp: (lp.label, lp.label))\n",
        "                   .map(lambda lp: squaredError(lp[0], lp[1]))\n",
        "                   .collect())\n",
        "clrs = cmap(np.asarray(norm(error)))[:,0:3]\n",
        "\n",
        "fig, ax = preparePlot(np.arange(0, 100, 20), np.arange(0, 100, 20))\n",
        "plt.scatter(actual, actual, s=14**2, c=clrs, edgecolors='#888888', alpha=0.75, linewidths=0.5)\n",
        "ax.set_xlabel('Predicted'), ax.set_ylabel('Actual')\n",
        "pass"
      ]
    },
    {
      "cell_type": "code",
      "execution_count": null,
      "metadata": {
        "id": "YDSqtiobRomE"
      },
      "outputs": [],
      "source": [
        "predictions = np.asarray(parsedValData\n",
        "                         .map(lambda lp: averageTrainYear)\n",
        "                         .collect())\n",
        "error = np.asarray(parsedValData\n",
        "                   .map(lambda lp: (lp.label, averageTrainYear))\n",
        "                   .map(lambda lp: squaredError(lp[0], lp[1]))\n",
        "                   .collect())\n",
        "norm = Normalize()\n",
        "clrs = cmap(np.asarray(norm(error)))[:,0:3]\n",
        "\n",
        "fig, ax = preparePlot(np.arange(53.0, 55.0, 0.5), np.arange(0, 100, 20))\n",
        "ax.set_xlim(53, 55)\n",
        "plt.scatter(predictions, actual, s=14**2, c=clrs, edgecolors='#888888', alpha=0.75, linewidths=0.3)\n",
        "ax.set_xlabel('Predicted'), ax.set_ylabel('Actual')"
      ]
    },
    {
      "cell_type": "markdown",
      "metadata": {
        "id": "2TbbTyaYRomE"
      },
      "source": [
        "### ** Parte 3: Treinando e avaliando o modelo de regressão linear **"
      ]
    },
    {
      "cell_type": "markdown",
      "metadata": {
        "id": "tSkHTeMmRomF"
      },
      "source": [
        "#### ** (3a) Gradiente do erro **\n",
        "\n",
        "#### Vamos implementar a regressão linear através do gradiente descendente.\n",
        "#### Lembrando que para atualizar o peso da regressão linear fazemos: $$ \\scriptsize \\mathbf{w}_{i+1} = \\mathbf{w}_i - \\alpha_i \\sum_j (\\mathbf{w}_i^\\top\\mathbf{x}_j  - y_j) \\mathbf{x}_j \\,.$$ onde $ \\scriptsize i $ é a iteração do algoritmo, e $ \\scriptsize j $ é o objeto sendo observado no momento.\n",
        "\n",
        "#### Primeiro, implemente uma função que calcula esse gradiente do erro para certo objeto: $ \\scriptsize (\\mathbf{w}^\\top \\mathbf{x} - y) \\mathbf{x} \\, ,$ e teste a função em dois exemplos. Use o método `DenseVector` [dot](https://spark.apache.org/docs/latest/api/python/reference/api/pyspark.ml.linalg.DenseVector.html) para representar a lista de atributos (ele tem funcionalidade parecida com o `np.array()`)."
      ]
    },
    {
      "cell_type": "code",
      "execution_count": null,
      "metadata": {
        "id": "rGMqu0KFRomF"
      },
      "outputs": [],
      "source": [
        "from pyspark.mllib.linalg import DenseVector"
      ]
    },
    {
      "cell_type": "code",
      "execution_count": null,
      "metadata": {
        "id": "b4sTRrocRomG"
      },
      "outputs": [],
      "source": [
        "# EXERCICIO\n",
        "def gradientSummand(weights, lp):\n",
        "    \"\"\"Calculates the gradient summand for a given weight and `LabeledPoint`.\n",
        "\n",
        "    Note:\n",
        "        `DenseVector` behaves similarly to a `numpy.ndarray` and they can be used interchangably\n",
        "        within this function.  For example, they both implement the `dot` method.\n",
        "\n",
        "    Args:\n",
        "        weights (DenseVector): An array of model weights (betas).\n",
        "        lp (LabeledPoint): The `LabeledPoint` for a single observation.\n",
        "\n",
        "    Returns:\n",
        "        DenseVector: An array of values the same length as `weights`.  The gradient summand.\n",
        "    \"\"\"\n",
        "    return  DenseVector((weights.dot(lp.features) - lp.label)*lp.features)   #Solución\n",
        "\n",
        "exampleW = DenseVector([1, 1, 1])\n",
        "exampleLP = LabeledPoint(2.0, [3, 1, 4])\n",
        "\n",
        "summandOne = gradientSummand(exampleW, exampleLP)\n",
        "print (summandOne)\n",
        "\n",
        "exampleW = DenseVector([.24, 1.2, -1.4])\n",
        "exampleLP = LabeledPoint(3.0, [-1.4, 4.2, 2.1])\n",
        "summandTwo = gradientSummand(exampleW, exampleLP)\n",
        "print (summandTwo)"
      ]
    },
    {
      "cell_type": "code",
      "execution_count": null,
      "metadata": {
        "id": "4dktcpa4RomL"
      },
      "outputs": [],
      "source": [
        "# TEST Gradient summand (3a)\n",
        "assert np.allclose(summandOne, [18., 6., 24.]), 'incorrect value for summandOne'\n",
        "assert np.allclose(summandTwo, [1.7304,-5.1912,-2.5956]), 'incorrect value for summandTwo'\n",
        "print(\"OK\")"
      ]
    },
    {
      "cell_type": "markdown",
      "metadata": {
        "id": "q6_NHHGYRomM"
      },
      "source": [
        "#### ** (3b) Use os pesos para fazer a predição **\n",
        "#### Agora, implemente a função  `getLabeledPredictions` que recebe como parâmetro o conjunto de pesos e um `LabeledPoint` e retorna uma tupla (rótulo, predição). Lembre-se que podemos predizer um rótulo calculando o produto interno dos pesos com os atributos."
      ]
    },
    {
      "cell_type": "code",
      "execution_count": null,
      "metadata": {
        "id": "6H3oJlrbRomM"
      },
      "outputs": [],
      "source": [
        "# EXERCICIO\n",
        "def getLabeledPrediction(weights, observation):\n",
        "    \"\"\"Calculates predictions and returns a (label, prediction) tuple.\n",
        "\n",
        "    Note:\n",
        "        The labels should remain unchanged as we'll use this information to calculate prediction\n",
        "        error later.\n",
        "\n",
        "    Args:\n",
        "        weights (np.ndarray): An array with one weight for each features in `trainData`.\n",
        "        observation (LabeledPoint): A `LabeledPoint` that contain the correct label and the\n",
        "            features for the data point.\n",
        "\n",
        "    Returns:\n",
        "        tuple: A (label, prediction) tuple.\n",
        "    \"\"\"\n",
        "    return (observation.label, weights.dot(observation.features))       #Solución\n",
        "\n",
        "weights = np.array([1.0, 1.5])\n",
        "predictionExample = sc.parallelize([LabeledPoint(2, np.array([1.0, .5])),\n",
        "                                    LabeledPoint(1.5, np.array([.5, .5]))])\n",
        "labelsAndPredsExample = predictionExample.map(lambda lp: getLabeledPrediction(weights, lp))\n",
        "print (labelsAndPredsExample.collect())"
      ]
    },
    {
      "cell_type": "code",
      "execution_count": null,
      "metadata": {
        "id": "aKsp0lkHRomN"
      },
      "outputs": [],
      "source": [
        "# TEST Use weights to make predictions (3b)\n",
        "assert labelsAndPredsExample.collect() == [(2.0, 1.75), (1.5, 1.25)], 'incorrect definition for getLabeledPredictions'\n",
        "print(\"OK\")"
      ]
    },
    {
      "cell_type": "markdown",
      "metadata": {
        "id": "I9TEC1VdRomN"
      },
      "source": [
        "#### ** (3c) Gradiente descendente **\n",
        "#### Finalmente, implemente o algoritmo gradiente descendente para regressão linear e teste a função em um exemplo."
      ]
    },
    {
      "cell_type": "code",
      "execution_count": null,
      "metadata": {
        "id": "-0kAREmjRomN"
      },
      "outputs": [],
      "source": [
        "# EXERCICIO\n",
        "def linregGradientDescent(trainData, numIters):\n",
        "    \"\"\"Calculates the weights and error for a linear regression model trained with gradient descent.\n",
        "\n",
        "    Note:\n",
        "        `DenseVector` behaves similarly to a `numpy.ndarray` and they can be used interchangably\n",
        "        within this function.  For example, they both implement the `dot` method.\n",
        "\n",
        "    Args:\n",
        "        trainData (RDD of LabeledPoint): The labeled data for use in training the model.\n",
        "        numIters (int): The number of iterations of gradient descent to perform.\n",
        "\n",
        "    Returns:\n",
        "        (np.ndarray, np.ndarray): A tuple of (weights, training errors).  Weights will be the\n",
        "            final weights (one weight per feature) for the model, and training errors will contain\n",
        "            an error (RMSE) for each iteration of the algorithm.\n",
        "    \"\"\"\n",
        "    # The length of the training data\n",
        "    n = trainData.count()      #Solución\n",
        "    # The number of features in the training data\n",
        "    d = len(trainData.first().features)     #Solución\n",
        "    w = np.zeros(d)\n",
        "    alpha = 1.0\n",
        "    # We will compute and store the training error after each iteration\n",
        "    errorTrain = np.zeros(numIters)\n",
        "    for i in range(numIters):\n",
        "        # Use getLabeledPrediction from (3b) with trainData to obtain an RDD of (label, prediction)\n",
        "        # tuples.  Note that the weights all equal 0 for the first iteration, so the predictions will\n",
        "        # have large errors to start.\n",
        "        labelsAndPredsTrain = trainData.map(lambda l: getLabeledPrediction(w,l))     #Solución\n",
        "        errorTrain[i] = calcRMSE(labelsAndPredsTrain)    #Solución\n",
        "\n",
        "        # Calculate the `gradient`.  Make use of the `gradientSummand` function you wrote in (3a).\n",
        "        # Note that `gradient` sould be a `DenseVector` of length `d`.\n",
        "        gradient = trainData.map(lambda l: gradientSummand(w, l)).sum()   #Solución\n",
        "\n",
        "        # Update the weights\n",
        "        alpha_i = alpha / (n * np.sqrt(i+1))\n",
        "        w -= alpha_i*gradient\n",
        "    return w, errorTrain\n",
        "\n",
        "# create a toy dataset with n = 10, d = 3, and then run 5 iterations of gradient descent\n",
        "# note: the resulting model will not be useful; the goal here is to verify that\n",
        "# linregGradientDescent is working properly\n",
        "exampleN = 10\n",
        "exampleD = 3\n",
        "exampleData = (sc\n",
        "               .parallelize(parsedTrainData.take(exampleN))\n",
        "               .map(lambda lp: LabeledPoint(lp.label, lp.features[0:exampleD])))\n",
        "print (exampleData.take(2))\n",
        "exampleNumIters = 5\n",
        "exampleWeights, exampleErrorTrain = linregGradientDescent(exampleData, exampleNumIters)\n",
        "print (exampleWeights)"
      ]
    },
    {
      "cell_type": "code",
      "execution_count": null,
      "metadata": {
        "id": "BVkGiFxKRomO"
      },
      "outputs": [],
      "source": [
        "# TEST Gradient descent (3c)\n",
        "expectedOutput = [48.20389904,  34.53243006, 30.60284959]\n",
        "assert np.allclose(exampleWeights, expectedOutput), 'value of exampleWeights is incorrect'\n",
        "expectedError = [79.72766145,  33.64762907,   9.46281696,   9.45486926,   9.44889147]\n",
        "assert np.allclose(exampleErrorTrain, expectedError),'value of exampleErrorTrain is incorrect'\n",
        "print(\"OK\")"
      ]
    },
    {
      "cell_type": "markdown",
      "metadata": {
        "id": "aZeJqY_TRomO"
      },
      "source": [
        "#### ** (3d) Treinando o modelo na base de dados **\n",
        "\n",
        "#### Agora iremos treinar o modelo de regressão linear na nossa base de dados de treino e calcular o RMSE na base de validação. Lembrem-se que não devemos utilizar a base de teste até que o melhor parâmetro do modelo seja escolhido. \n",
        "\n",
        "#### Para essa tarefa vamos utilizar as funções linregGradientDescent, getLabeledPrediction e calcRMSE já implementadas."
      ]
    },
    {
      "cell_type": "code",
      "execution_count": null,
      "metadata": {
        "id": "Te5XnvV9RomP"
      },
      "outputs": [],
      "source": [
        "# EXERCICIO\n",
        "numIters = 50\n",
        "weightsLR0, errorTrainLR0 = linregGradientDescent(parsedTrainData, numIters)  #Solución\n",
        "\n",
        "labelsAndPreds = parsedValData.map(lambda lp: getLabeledPrediction(weightsLR0, lp))     #Solución\n",
        "rmseValLR0 = calcRMSE(labelsAndPreds)\n",
        "\n",
        "print ('Validation RMSE:\\n\\tBaseline = {0:.3f}\\n\\tLR0 = {1:.3f}'.format(rmseValBase, rmseValLR0))"
      ]
    },
    {
      "cell_type": "code",
      "execution_count": null,
      "metadata": {
        "id": "amOlQIOMRomP"
      },
      "outputs": [],
      "source": [
        "# TEST Train the model (3d)\n",
        "expectedOutput = [ 22.64370481,  20.1815662,   -0.21620107,   8.53259099,   5.94821844,\n",
        "  -4.50349235,  15.51511703,   3.88802901,   9.79146177,   5.74357056,\n",
        "  11.19512589,   3.60554264]\n",
        "assert np.allclose(weightsLR0, expectedOutput), 'incorrect value for weightsLR0'\n",
        "print(\"OK\")"
      ]
    },
    {
      "cell_type": "markdown",
      "metadata": {
        "id": "dROxEDHnRomQ"
      },
      "source": [
        "#### ** Visualização 3: Erro de Treino **\n",
        "#### Vamos verificar o comportamento do algoritmo durante as iterações. Para isso vamos plotar um gráfico em que o eixo x representa a iteração e o eixo y o log do RMSE. O primeiro gráfico mostra as primeiras 50 iterações enquanto o segundo mostra as últimas 44 iterações. Note que inicialmente o erro cai rapidamente, quando então o gradiente descendente passa a fazer apenas pequenos ajustes."
      ]
    },
    {
      "cell_type": "code",
      "execution_count": null,
      "metadata": {
        "id": "zgBKQ4ZsRomQ"
      },
      "outputs": [],
      "source": [
        "norm = Normalize()\n",
        "clrs = cmap(np.asarray(norm(np.log(errorTrainLR0))))[:,0:3]\n",
        "\n",
        "fig, ax = preparePlot(np.arange(0, 60, 10), np.arange(2, 6, 1))\n",
        "ax.set_ylim(2, 6)\n",
        "plt.scatter(list(range(0, numIters)), np.log(errorTrainLR0), s=14**2, c=clrs, edgecolors='#888888', alpha=0.75)\n",
        "ax.set_xlabel('Iteration'), ax.set_ylabel(r'$\\log_e(errorTrainLR0)$')\n",
        "pass"
      ]
    },
    {
      "cell_type": "code",
      "execution_count": null,
      "metadata": {
        "id": "rqHF60M7RomQ"
      },
      "outputs": [],
      "source": [
        "norm = Normalize()\n",
        "clrs = cmap(np.asarray(norm(errorTrainLR0[6:])))[:,0:3]\n",
        "\n",
        "fig, ax = preparePlot(np.arange(0, 60, 10), np.arange(17, 22, 1))\n",
        "ax.set_ylim(17.8, 21.2)\n",
        "plt.scatter(range(0, numIters-6), errorTrainLR0[6:], s=14**2, c=clrs, edgecolors='#888888', alpha=0.75)\n",
        "ax.set_xticklabels(map(str, range(6, 66, 10)))\n",
        "ax.set_xlabel('Iteration'), ax.set_ylabel(r'Training Error')\n",
        "pass"
      ]
    },
    {
      "cell_type": "markdown",
      "metadata": {
        "id": "ocEHBvvLRomR"
      },
      "source": [
        "### ** Part 4: Treino utilizando MLlib e Busca em Grade (Grid Search) **"
      ]
    },
    {
      "cell_type": "markdown",
      "metadata": {
        "id": "iIizam_-RomR"
      },
      "source": [
        "#### **(4a) `LinearRegressionWithSGD` **\n",
        "\n",
        "#### Nosso teste inicial já conseguiu obter um desempenho melhor que o baseline, mas vamos ver se conseguimos fazer melhor introduzindo a ordenada de origem da reta além de outros ajustes no algoritmo.  MLlib [LinearRegressionWithSGD](https://spark.apache.org/docs/latest/api/python/reference/api/pyspark.mllib.regression.LinearRegressionWithSGD.html) implementa o mesmo algoritmo da parte (3b), mas de forma mais eficiente para o contexto distribuído e com várias funcionalidades adicionais. \n",
        "\n",
        "#### Primeiro utilize a função LinearRegressionWithSGD para treinar um modelo com regularização L2 (Ridge) e com a ordenada de origem. Esse método retorna um [LinearRegressionModel](https://spark.apache.org/docs/latest/api/java/org/apache/spark/mllib/regression/LinearRegressionModel.html).  \n",
        "\n",
        "#### Em seguida, use os atributos `weights` e `intercept` para imprimir o modelo encontrado."
      ]
    },
    {
      "cell_type": "code",
      "execution_count": null,
      "metadata": {
        "id": "-rYncn7ORomS"
      },
      "outputs": [],
      "source": [
        "from pyspark.mllib.regression import LinearRegressionWithSGD\n",
        "# Values to use when training the linear regression model\n",
        "numIters = 500  # iterations\n",
        "alpha = 1.0  # step\n",
        "miniBatchFrac = 1.0  # miniBatchFraction\n",
        "reg = 1e-1  # regParam\n",
        "regType = 'l2'  # regType\n",
        "useIntercept = True  # intercept"
      ]
    },
    {
      "cell_type": "code",
      "execution_count": null,
      "metadata": {
        "id": "GMOZ8969RomS"
      },
      "outputs": [],
      "source": [
        "# EXERCICIO\n",
        "firstModel = LinearRegressionWithSGD.train(parsedTrainData, iterations = numIters, step = alpha, miniBatchFraction = 1.0,\n",
        "                                          regParam=reg,regType=regType, intercept=useIntercept)\n",
        "\n",
        "# weightsLR1 stores the model weights; interceptLR1 stores the model intercept\n",
        "weightsLR1 = firstModel.weights      #Solución\n",
        "interceptLR1 = firstModel.intercept   #Solución\n",
        "print( weightsLR1, interceptLR1)"
      ]
    },
    {
      "cell_type": "code",
      "execution_count": null,
      "metadata": {
        "id": "0yGNaky5RomS"
      },
      "outputs": [],
      "source": [
        "# TEST LinearRegressionWithSGD (4a)\n",
        "expectedIntercept = 13.332056210482524\n",
        "expectedWeights = [15.9694010246,13.9897244172,0.669349383773,6.24618402989,4.00932179503,-2.30176663131,10.478805422,3.06385145385,7.14414111075,4.49826819526,7.87702565069,3.00732146613]\n",
        "assert np.allclose(interceptLR1, expectedIntercept), 'incorrect value for interceptLR1'\n",
        "assert np.allclose(weightsLR1, expectedWeights), 'incorrect value for weightsLR1'\n",
        "print(\"OK\")"
      ]
    },
    {
      "cell_type": "markdown",
      "metadata": {
        "id": "r7Epy2LQRomT"
      },
      "source": [
        "#### **(4b) Predição**\n",
        "#### Agora use o método [LinearRegressionModel.predict()](https://spark.apache.org/docs/latest/api/python/reference/api/pyspark.mllib.regression.LinearRegressionModel.html) para fazer a predição de um objeto. Passe o atributo `features` de um `LabeledPoint` comp parâmetro."
      ]
    },
    {
      "cell_type": "code",
      "execution_count": null,
      "metadata": {
        "id": "jKopUvO0RomT"
      },
      "outputs": [],
      "source": [
        "# EXERCICIO\n",
        "samplePoint = parsedTrainData.take(1)[0]\n",
        "samplePrediction = firstModel.predict(samplePoint.features)     #Solución\n",
        "print (samplePrediction)"
      ]
    },
    {
      "cell_type": "code",
      "execution_count": null,
      "metadata": {
        "id": "JNWxfi8KRomU"
      },
      "outputs": [],
      "source": [
        "# TEST Predict (4b)\n",
        "assert np.allclose(samplePrediction, 56.4065674104), 'incorrect value for samplePrediction'"
      ]
    },
    {
      "cell_type": "markdown",
      "metadata": {
        "id": "r3sZPFukRomU"
      },
      "source": [
        "#### ** (4c) Avaliar RMSE **\n",
        "\n",
        "#### Agora avalie o desempenho desse modelo no teste de validação. Use o método `predict()` para criar o RDD `labelsAndPreds` RDD, e então use a função `calcRMSE()` da Parte (2b) para calcular o RMSE."
      ]
    },
    {
      "cell_type": "code",
      "execution_count": null,
      "metadata": {
        "id": "csRUBccCRomU"
      },
      "outputs": [],
      "source": [
        "# EXERCICIO\n",
        "labelsAndPreds = parsedValData.map(lambda lp: (lp.label, firstModel.predict(lp.features))) #Solución\n",
        "rmseValLR1 = calcRMSE(labelsAndPreds)\n",
        "\n",
        "print ('Validation RMSE:\\n\\tBaseline = {0:.3f}\\n\\tLR0 = {1:.3f}\\n\\tLR1 = {2:.3f}'.format(rmseValBase, rmseValLR0, rmseValLR1))"
      ]
    },
    {
      "cell_type": "code",
      "execution_count": null,
      "metadata": {
        "id": "DDiAD00HRomV"
      },
      "outputs": [],
      "source": [
        "# TEST Evaluate RMSE (4c)\n",
        "assert np.allclose(rmseValLR1, 19.025), 'incorrect value for rmseValLR1'"
      ]
    },
    {
      "cell_type": "markdown",
      "metadata": {
        "id": "6q0E-BB8RomV"
      },
      "source": [
        "#### ** (4d) Grid search **\n",
        "#### Já estamos superando o baseline em pelo menos dois anos na média, vamos ver se encontramos um conjunto de parâmetros melhor.  Faça um grid search para encontrar um bom parâmetro de regularização.  Tente valores para `regParam` dentro do conjunto `1e-10`, `1e-5`, e `1`."
      ]
    },
    {
      "cell_type": "code",
      "execution_count": null,
      "metadata": {
        "id": "NIX6qUC1RomW"
      },
      "outputs": [],
      "source": [
        "# EXERCICIO\n",
        "bestRMSE = rmseValLR1\n",
        "bestRegParam = reg\n",
        "bestModel = firstModel\n",
        "\n",
        "numIters = 500\n",
        "alpha = 1.0\n",
        "miniBatchFrac = 1.0\n",
        "for reg in in [1e-10, 1e-5, 1.]:   #Solución\n",
        "    model = LinearRegressionWithSGD.train(parsedTrainData, numIters, alpha,\n",
        "                                          miniBatchFrac, regParam=reg,\n",
        "                                          regType='l2', intercept=True)\n",
        "    labelsAndPreds = parsedValData.<COMPLETAR>\n",
        "    rmseValGrid = calcRMSE(labelsAndPreds)\n",
        "    print (rmseValGrid)\n",
        "\n",
        "    if rmseValGrid < bestRMSE:\n",
        "        bestRMSE = rmseValGrid\n",
        "        bestRegParam = reg\n",
        "        bestModel = model\n",
        "rmseValLRGrid = bestRMSE\n",
        "\n",
        "print ('Validation RMSE:\\n\\tBaseline = {0:.3f}\\n\\tLR0 = {1:.3f}\\n\\tLR1 = {2:.3f}\\n\\tLRGrid = {3:.3f}'.format(rmseValBase, rmseValLR0, rmseValLR1, rmseValLRGrid))"
      ]
    },
    {
      "cell_type": "code",
      "execution_count": null,
      "metadata": {
        "id": "IwD9B6egRomW"
      },
      "outputs": [],
      "source": [
        "# TEST Grid search (4d)\n",
        "assert np.allclose(16.6813542516, rmseValLRGrid), 'incorrect value for rmseValLRGrid'"
      ]
    },
    {
      "cell_type": "markdown",
      "metadata": {
        "id": "9ZR2N0fLRomX"
      },
      "source": [
        "#### ** Visualização 5: Predições do melhor modelo**\n",
        "#### Agora, vamos criar um gráfico para verificar o desempenho do melhor modelo. Reparem nesse gráfico que a quantidade de pontos mais escuros reduziu bastante em relação ao baseline."
      ]
    },
    {
      "cell_type": "code",
      "execution_count": null,
      "metadata": {
        "id": "aTLF7FKlRomX"
      },
      "outputs": [],
      "source": [
        "predictions = np.asarray(parsedValData\n",
        "                         .map(lambda lp: bestModel.predict(lp.features))\n",
        "                         .collect())\n",
        "actual = np.asarray(parsedValData\n",
        "                    .map(lambda lp: lp.label)\n",
        "                    .collect())\n",
        "error = np.asarray(parsedValData\n",
        "                   .map(lambda lp: (lp.label, bestModel.predict(lp.features)))\n",
        "                   .map(lambda lp: squaredError(lp[0], lp[1]))\n",
        "                   .collect())\n",
        "\n",
        "norm = Normalize()\n",
        "clrs = cmap(np.asarray(norm(error)))[:,0:3]\n",
        "\n",
        "fig, ax = preparePlot(np.arange(0, 120, 20), np.arange(0, 120, 20))\n",
        "ax.set_xlim(15, 82), ax.set_ylim(-5, 105)\n",
        "plt.scatter(predictions, actual, s=14**2, c=clrs, edgecolors='#888888', alpha=0.75, linewidths=.5)\n",
        "ax.set_xlabel('Predicted'), ax.set_ylabel(r'Actual')\n",
        "pass"
      ]
    },
    {
      "cell_type": "markdown",
      "metadata": {
        "id": "XFxZgRA4RomY"
      },
      "source": [
        "#### ** (4e) Grid Search para o valor de alfa e número de iterações **\n",
        "\n",
        "#### Agora, vamos verificar diferentes valores para alfa e número de iterações para perceber o impacto desses parâmetros em nosso modelo. Especificamente tente os valores  `1e-5` e `10` para `alpha` e os valores `500` e `5` para número de iterações. Avalie todos os modelos no conjunto de valdação.  Reparem que com um valor baixo de alpha, o algoritmo necessita de muito mais iterações para convergir ao ótimo, enquanto um valor muito alto para alpha, pode fazer com que o algoritmo não encontre uma solução."
      ]
    },
    {
      "cell_type": "code",
      "execution_count": null,
      "metadata": {
        "id": "O_83QzveRomY"
      },
      "outputs": [],
      "source": [
        "# EXERCICIO\n",
        "reg = bestRegParam\n",
        "modelRMSEs = []\n",
        "\n",
        "for alpha in in [1e-5, 10]:       #Solución\n",
        "    for numIters in [500, 5]:  #Solución\n",
        "        model = LinearRegressionWithSGD.train(parsedTrainData, numIters, alpha,\n",
        "                                              miniBatchFrac, regParam=reg,\n",
        "                                              regType='l2', intercept=True)\n",
        "        labelsAndPreds = parsedValData.map(lambda lp: (lp.label, model.predict(lp.features)))\n",
        "        rmseVal = calcRMSE(labelsAndPreds)\n",
        "        print ('alpha = {0:.0e}, numIters = {1}, RMSE = {2:.3f}'.format(alpha, numIters, rmseVal))\n",
        "        modelRMSEs.append(rmseVal)"
      ]
    },
    {
      "cell_type": "code",
      "execution_count": null,
      "metadata": {
        "id": "OX_xcNSrRomZ"
      },
      "outputs": [],
      "source": [
        "# TEST Vary alpha and the number of iterations (4e)\n",
        "expectedResults = sorted([57.487692757541318, 57.487692757541318, 352324534.65684682])\n",
        "assert np.allclose(sorted(modelRMSEs)[:3], expectedResults), 'incorrect value for modelRMSEs'"
      ]
    }
  ],
  "metadata": {
    "kernelspec": {
      "display_name": "Python 3 (ipykernel)",
      "language": "python",
      "name": "python3"
    },
    "language_info": {
      "codemirror_mode": {
        "name": "ipython",
        "version": 3
      },
      "file_extension": ".py",
      "mimetype": "text/x-python",
      "name": "python",
      "nbconvert_exporter": "python",
      "pygments_lexer": "ipython3",
      "version": "3.9.7"
    },
    "colab": {
      "name": "Lab02_Resolucion.ipynb",
      "provenance": [],
      "collapsed_sections": []
    }
  },
  "nbformat": 4,
  "nbformat_minor": 0
}