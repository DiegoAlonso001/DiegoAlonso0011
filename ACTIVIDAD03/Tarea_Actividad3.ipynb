{
  "nbformat": 4,
  "nbformat_minor": 0,
  "metadata": {
    "colab": {
      "name": "Tarea_Actividad3.ipynb",
      "provenance": [],
      "collapsed_sections": []
    },
    "kernelspec": {
      "name": "python3",
      "display_name": "Python 3"
    },
    "language_info": {
      "name": "python"
    }
  },
  "cells": [
    {
      "cell_type": "markdown",
      "metadata": {
        "id": "4EtfxYyJXNVd"
      },
      "source": [
        "#**Actividad 3: Reglas de Asociación**\n",
        "\n",
        "###Apellidos y nombres: Dorado Torres Diego Alonso\n",
        "###Código:170594"
      ]
    },
    {
      "cell_type": "markdown",
      "metadata": {
        "id": "BrYLc7dRfOvu"
      },
      "source": [
        "### 1.-Instalar bibliotecas\n",
        "\n",
        "\n",
        "\n",
        "\n"
      ]
    },
    {
      "cell_type": "code",
      "metadata": {
        "id": "69VKnuvzehQQ"
      },
      "source": [
        "import numpy as np\n",
        "import pandas as pd\n"
      ],
      "execution_count": 38,
      "outputs": []
    },
    {
      "cell_type": "markdown",
      "metadata": {
        "id": "akQ4I5OXZc8a"
      },
      "source": [
        "### 2.-Importar datos"
      ]
    },
    {
      "cell_type": "code",
      "metadata": {
        "id": "CBcNMEV0ZT-D"
      },
      "source": [
        "# Leer archivo .npy\n",
        "db = np.load(\"spotify.npy\", allow_pickle = True)"
      ],
      "execution_count": 39,
      "outputs": []
    },
    {
      "cell_type": "markdown",
      "metadata": {
        "id": "qfkIhXUc2aVG"
      },
      "source": [
        "### 3.-Implementar el algoritmo Apriori"
      ]
    },
    {
      "cell_type": "markdown",
      "metadata": {
        "id": "N05aa7XG4-Cm"
      },
      "source": [
        "####a) Función frecuencia itemsets"
      ]
    },
    {
      "cell_type": "code",
      "metadata": {
        "id": "5ZwojcrWNsJb"
      },
      "source": [
        "def get_frequent_itemsets(playlists, min_support):\n",
        "  # Listar los datos\n",
        "  playlists = list(playlists.item().values())\n",
        "  # Recorrer los playlists\n",
        "  playlists = [set(playlist) for playlist in playlists]\n",
        "  canciones = [item for sublista in playlists for item in sublista]\n",
        "  # Frecuencia de cada playlist\n",
        "  frecuencia_playlists = pd.Series(data=canciones).value_counts().to_dict()\n",
        "  # Diccionario de playlists\n",
        "  canciones_playlists = collections.defaultdict(set)\n",
        "  # Valor para cada playlist\n",
        "  for index, playlist in enumerate(playlists):\n",
        "      for cancion in playlist:\n",
        "          canciones_playlists[cancion].add(index)\n",
        "  canciones_playlists = canciones_playlists\n",
        "  # Determinar las mejores canciones en cada playlist\n",
        "  contador = {cancion: veces for cancion, veces in frecuencia_playlists.items() if veces / len(playlists) >= min_support}\n",
        "  itemsets = [{cancion} for cancion in contador.keys()]\n",
        "  # Obtener los itemsets con más frecuencia\n",
        "  itemsets_frecuentes = {}\n",
        "  itemsets_frecuentes[1] = sorted(contador.items(), key=lambda x: x[1], reverse=True)\n",
        "  itemsets_frecuentes_tamaño = []\n",
        "  # Inicializar contador\n",
        "  k = 2\n",
        "  actual = itemsets  \n",
        "  while len(actual) != 0:\n",
        "    # Generar itemsets\n",
        "    combinaciones = set() \n",
        "    m = k - 2\n",
        "    for candidato in actual: \n",
        "      candidato = list(candidato)\n",
        "      for aux in actual:\n",
        "        aux = list(aux)\n",
        "        union = True\n",
        "        for i in range(k - 2):\n",
        "          if candidato[i] != aux[i]:\n",
        "              union = False\n",
        "              break\n",
        "        if not union:\n",
        "          continue\n",
        "        if candidato[k - 2] < aux[k - 2]:\n",
        "          c = candidato + [aux[k - 2]]\n",
        "          c = frozenset(sorted(c))\n",
        "          combinaciones.add(c)\n",
        "    # Hallar que dicho itemset cumpla cumpla con el umbral de soporte mínimo\n",
        "    contadorDecombinaciones = {}   \n",
        "    playlist_tamanio = len(playlists)   \n",
        "    for candidato in combinaciones:\n",
        "        playlists_inter = []\n",
        "        for song in candidato:\n",
        "          playlists_inter.append(canciones_playlists[song])\n",
        "        contadorDecombinaciones[candidato] = len(set.intersection(*playlists_inter))\n",
        "    contador_libreria = {subset: veces for subset, veces in contadorDecombinaciones.items() if veces / playlist_tamanio >= min_support} \n",
        "    libreria = contador_libreria.keys() \n",
        "    itemsets_frecuentes_tamaño.extend(libreria)\n",
        "    itemsets_frecuentes[k] = sorted(contador_libreria.items(), key=lambda x: x[1], reverse=True)\n",
        "    k += 1\n",
        "    actual = libreria\n",
        "  # Generar itemsets con pd.DataFrame\n",
        "  itemsets_dataframe = pd.DataFrame([item for sublista in itemsets_frecuentes.values() for item in sublista]).round(3)\n",
        "  itemsets_dataframe.columns = [\"itemset\", \"contador_support\"]\n",
        "  itemsets_dataframe[\"support\"] = itemsets_dataframe[\"contador_support\"] / len(playlists)\n",
        "  extra_data = []\n",
        "  # Itemsets más frecuentes en 1er lugar\n",
        "  extra_data.append(itemsets_dataframe)\n",
        "  # En 2do lugar los datos de los playlists\n",
        "  extra_data.append(playlists)\n",
        "  # En 3ra posición el registro de canciones\n",
        "  extra_data.append(canciones_playlists)\n",
        "  # En 4ta posicion el registro de los itemsets largos\n",
        "  extra_data.append(itemsets_frecuentes_tamaño)\n",
        "  return extra_data\n"
      ],
      "execution_count": 40,
      "outputs": []
    },
    {
      "cell_type": "markdown",
      "metadata": {
        "id": "zDSh5GSf5fF1"
      },
      "source": [
        "####b) Función generar reglas de asociación"
      ]
    },
    {
      "cell_type": "code",
      "metadata": {
        "id": "uK4OZZiAfqfX"
      },
      "source": [
        "def generate_association_rules(frequent_itemsets, confidence, lift):\n",
        "  reglas = [] \n",
        "  for itemset in frequent_itemsets[3]:\n",
        "    #Formar todas las combinaciones de reglas de asociación\n",
        "    itemset_contador = calcular_interseccion(itemset,frequent_itemsets[2])\n",
        "    itemset_support = itemset_contador / len(frequent_itemsets[0])\n",
        "    #Recorrer los itemsets\n",
        "    for i in range(1, len(itemset) + 1):\n",
        "        for xSet in combinaciones(itemset, i):\n",
        "            xSet = set(xSet)\n",
        "            ySet = set(itemset) - xSet\n",
        "            #Hallar intersección\n",
        "            xSupport = calcular_interseccion(xSet,frequent_itemsets[2]) / len(frequent_itemsets[0])\n",
        "            xySupport = calcular_interseccion(xSet.union(ySet),frequent_itemsets[2]) / len(frequent_itemsets[0])\n",
        "            rule_confidence = xySupport / xSupport\n",
        "            if len(xSet) > 0 and len(ySet) > 0:\n",
        "                ySupport = calcular_interseccion(ySet,frequent_itemsets[2]) / len(frequent_itemsets[0])\n",
        "                #Hallar reglas\n",
        "                rule_lift = xySupport / (xSupport * ySupport)\n",
        "                reglas.append((xSet, ySet, rule_confidence, xySupport, rule_lift))\n",
        "  #Generar pd.dataframe de las reglas de asociacion\n",
        "  reglas_dataframe = pd.DataFrame(data=reglas, columns=[\"X\", \"Y\", \"confidence\", \"support\", \"lift\"]).round(3)\n",
        "  reglas_dataframe[\"X\"] = list(map(tuple, reglas_dataframe[\"X\"]))\n",
        "  reglas_dataframe[\"Y\"] = list(map(tuple, reglas_dataframe[\"Y\"]))\n",
        "  #Hallar las reglas de asociacion de 10 playlists para la confianza\n",
        "  order_by=\"confidence\"\n",
        "  n=10\n",
        "  confidence_df = reglas_dataframe.sort_values(order_by, ascending=False).head(n)\n",
        "  #Hallar las mejores reglas de asociacion\n",
        "  order_by=\"lift\"\n",
        "  n=10\n",
        "  lift_df2 = reglas_dataframe.sort_values(order_by, ascending=False).head(n)\n",
        "  #Hallar las 10 mejores reglas de asociacion que cumplan con ambas condiciones\n",
        "  reglas_dataframe[\"len_itemset\"] = reglas_dataframe.apply(lambda x: len(set(x[\"X\"]).union(set(x[\"Y\"]))), axis=1)\n",
        "  reglas_dataframe=reglas_dataframe.sort_values(by=\"len_itemset\", ascending=False)\n",
        "  both_rules = reglas_dataframe[(reglas_dataframe[\"confidence\"] >= confidence) & (reglas_dataframe[\"lift\"] >= lift)]\n",
        "\n",
        "  return confidence_df,lift_df2,both_rules"
      ],
      "execution_count": 36,
      "outputs": []
    },
    {
      "cell_type": "markdown",
      "metadata": {
        "id": "KLNx4ygy3XV3"
      },
      "source": [
        "### 4.- Aplicar el algoritmo y obtener reglas de asociación"
      ]
    },
    {
      "cell_type": "code",
      "metadata": {
        "colab": {
          "base_uri": "https://localhost:8080/",
          "height": 174
        },
        "id": "XpH0sZPF6jyd",
        "outputId": "b33eb63e-067d-4de2-a976-0645f507a1ad"
      },
      "source": [
        "# Generar itemsets frecuentes\n",
        "itemsets = get_frequent_itemsets(db,0.01)\n",
        "itemsets[0].sort_values(by=\"support\").head()\n",
        "# Generar reglas de asociación\n",
        "reglas_confidence,reglas_lift,reglas_ambos = generate_association_rules(itemsets,0.4,0.5)\n",
        "# Mostrar reglas\n",
        "reglas_confidence\n",
        "reglas_lift\n",
        "reglas_ambos.head(10)\n",
        "# Seleccionar las mejores 4 reglas\n",
        "mejores=reglas_lift.head(4)\n",
        "mejores"
      ],
      "execution_count": 41,
      "outputs": [
        {
          "output_type": "execute_result",
          "data": {
            "text/html": [
              "<div>\n",
              "<style scoped>\n",
              "    .dataframe tbody tr th:only-of-type {\n",
              "        vertical-align: middle;\n",
              "    }\n",
              "\n",
              "    .dataframe tbody tr th {\n",
              "        vertical-align: top;\n",
              "    }\n",
              "\n",
              "    .dataframe thead th {\n",
              "        text-align: right;\n",
              "    }\n",
              "</style>\n",
              "<table border=\"1\" class=\"dataframe\">\n",
              "  <thead>\n",
              "    <tr style=\"text-align: right;\">\n",
              "      <th></th>\n",
              "      <th>X</th>\n",
              "      <th>Y</th>\n",
              "      <th>confidence</th>\n",
              "      <th>support</th>\n",
              "      <th>lift</th>\n",
              "    </tr>\n",
              "  </thead>\n",
              "  <tbody>\n",
              "    <tr>\n",
              "      <th>161</th>\n",
              "      <td>(No Heart,)</td>\n",
              "      <td>(X (feat. Future),)</td>\n",
              "      <td>0.696</td>\n",
              "      <td>0.101</td>\n",
              "      <td>3.493</td>\n",
              "    </tr>\n",
              "    <tr>\n",
              "      <th>160</th>\n",
              "      <td>(X (feat. Future),)</td>\n",
              "      <td>(No Heart,)</td>\n",
              "      <td>0.505</td>\n",
              "      <td>0.101</td>\n",
              "      <td>3.493</td>\n",
              "    </tr>\n",
              "    <tr>\n",
              "      <th>24</th>\n",
              "      <td>(Knee Deep (feat. Jimmy Buffett),)</td>\n",
              "      <td>(Chicken Fried,)</td>\n",
              "      <td>0.682</td>\n",
              "      <td>0.104</td>\n",
              "      <td>3.261</td>\n",
              "    </tr>\n",
              "    <tr>\n",
              "      <th>25</th>\n",
              "      <td>(Chicken Fried,)</td>\n",
              "      <td>(Knee Deep (feat. Jimmy Buffett),)</td>\n",
              "      <td>0.500</td>\n",
              "      <td>0.104</td>\n",
              "      <td>3.261</td>\n",
              "    </tr>\n",
              "  </tbody>\n",
              "</table>\n",
              "</div>"
            ],
            "text/plain": [
              "                                      X  ...   lift\n",
              "161                         (No Heart,)  ...  3.493\n",
              "160                 (X (feat. Future),)  ...  3.493\n",
              "24   (Knee Deep (feat. Jimmy Buffett),)  ...  3.261\n",
              "25                     (Chicken Fried,)  ...  3.261\n",
              "\n",
              "[4 rows x 5 columns]"
            ]
          },
          "metadata": {},
          "execution_count": 41
        }
      ]
    },
    {
      "cell_type": "markdown",
      "metadata": {
        "id": "Z1xJXs1C3jpU"
      },
      "source": [
        "### 5.- Explicar las reglas obtenidas"
      ]
    },
    {
      "cell_type": "markdown",
      "metadata": {
        "id": "2iPP2CyH7WxB"
      },
      "source": [
        "Se determino las 4 reglas de acuerdo a los diferentes indicadores disponibles con soporte, confianza y lift,ya que se pueden encontrar coincidencias con las búsquedas relacionada. \n",
        "\n",
        "De acuerdo a lo establecido según el género y/o el artista de los playlists se pueden hallar distintas reglas entonces el umbral será mayor al incial con más reglas de acuerdo al grado de confianza y soporte.\n",
        "\n",
        "\n",
        "###Primera regla \n",
        "De acuerdo a los resultados se observa que los playlist son del mismo género, entonces esto se agrega a las reglas de asociación y aumenta el umbral obtenido.\n",
        "\n",
        "###Segunda regla \n",
        "En esta regla se observa lo establecido ya que se repite los mismos playlists con la anterior regla de asociación por lo tanto existe una mejor confianza en el umbral.\n",
        "\n",
        "###Tercera regla\n",
        "En esta regla también se observa lo establecido ya que en esta regla se debe a las preferencias por lo cual el umbral es más alto..\n",
        "\n",
        "###Cuarta regla \n",
        "En esta regla se observa y se cumple lo establecido lo cual hace que el umbral sea mayor de acuerdo a la confianza y el soporte.\n",
        "\n",
        "De acuerdo a lo establecido según el género y/o el artista de los playlists se pueden hallar distintas reglas entonces el umbral será mayor al incial con más reglas de acuerdo al grado de confianza y soporte.\n",
        "\n"
      ]
    }
  ]
}